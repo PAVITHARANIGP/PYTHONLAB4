{
 "cells": [
  {
   "cell_type": "code",
   "execution_count": 2,
   "metadata": {},
   "outputs": [
    {
     "name": "stdout",
     "output_type": "stream",
     "text": [
      "Customer ID     :  11\n",
      "Customer Name   :  PAVI\n",
      "Account Number:  11348754\n",
      "Payment ID    :  56IA\n",
      "Payment Amount:  5000\n"
     ]
    }
   ],
   "source": [
    " #Program to demonstrate inheritance concepts \n",
    "\n",
    "#MULTILEVEL INHERITANCE\n",
    "\n",
    "class Customer:\n",
    "    def __init__(self,cid,name):\n",
    "        self.cid=cid\n",
    "        self.name=name\n",
    "\n",
    "class Account(Customer):\n",
    "    def __init__(self, cid, name,accNo):\n",
    "        super().__init__(cid, name)\n",
    "        self.accNo=accNo\n",
    "        \n",
    "\n",
    "class Payment(Account):\n",
    "    def __init__(self, cid, name, accNo,pid,amount):\n",
    "        super().__init__(cid, name, accNo)\n",
    "        self.pid=pid\n",
    "        self.amount=amount\n",
    "\n",
    "    def display(self):\n",
    "        print(\"Customer ID     : \",self.cid)\n",
    "        print(\"Customer Name   : \",self.name)   \n",
    "        print(\"Account Number: \",self.accNo)   \n",
    "        print(\"Payment ID    : \",self.pid)  \n",
    "        print(\"Payment Amount: \",self.amount)      \n",
    "\n",
    "cid=input(\"Enter Customer ID\")\n",
    "name=input(\"Enter Customer Name\")\n",
    "accNo=input(\"Enter Account Number\")\n",
    "pid=input(\"Enter Payment ID\")\n",
    "amount=input(\"Enter Payment Amount\")\n",
    "pObj=Payment(cid,name,accNo,pid,amount)\n",
    "pObj.display()"
   ]
  },
  {
   "cell_type": "code",
   "execution_count": 5,
   "metadata": {},
   "outputs": [
    {
     "name": "stdout",
     "output_type": "stream",
     "text": [
      "Product is the parent class.\n",
      "Basket is the child 1.\n",
      "Product is the parent class.\n",
      "Babywrap is the child 2.\n"
     ]
    }
   ],
   "source": [
    "# HIERARCHICAL INHERITANCE\n",
    "\n",
    "class Product:\n",
    " def fun1(self):\n",
    "  print(\"Product is the parent class.\")\n",
    "\n",
    "# Derived class1\n",
    "class Basket(Product):\n",
    " def fun2(self):\n",
    "  print(\"Basket is the child 1.\")\n",
    "\n",
    "# Derivied class2\n",
    "class Babywrap(Product):\n",
    " def fun3(self):\n",
    "  print(\"Babywrap is the child 2.\")\n",
    "\n",
    "obj1 = Basket()\n",
    "obj2 = Babywrap()\n",
    "obj1.fun1()\n",
    "obj1.fun2()\n",
    "obj2.fun1()\n",
    "obj2.fun3()\n"
   ]
  },
  {
   "cell_type": "code",
   "execution_count": 7,
   "metadata": {},
   "outputs": [
    {
     "name": "stdout",
     "output_type": "stream",
     "text": [
      "Product1 : Basket\n",
      "Product2 : Babywrap\n"
     ]
    }
   ],
   "source": [
    "#MULTIPLE INHERITANCE\n",
    "\n",
    "class Product1:Product1name = \"\"\n",
    "def Product(self):\n",
    " print(self.Product1name)\n",
    "\n",
    "# Base class2\n",
    "class Product2:Product2name = \"\"\n",
    "def Product(self):\n",
    " print(self.Product2name)\n",
    "\n",
    "# Derived class\n",
    "class Product3(Product1, Product2):\n",
    " def Products(self):\n",
    "  print(\"Product1 :\", self.Product1name)\n",
    "  print(\"Product2 :\", self.Product2name)\n",
    "\n",
    "s1 = Product3()\n",
    "s1.Product1name = \"Basket\"\n",
    "s1.Product2name = \"Babywrap\"\n",
    "s1.Products()\n"
   ]
  }
 ],
 "metadata": {
  "kernelspec": {
   "display_name": "Python 3",
   "language": "python",
   "name": "python3"
  },
  "language_info": {
   "codemirror_mode": {
    "name": "ipython",
    "version": 3
   },
   "file_extension": ".py",
   "mimetype": "text/x-python",
   "name": "python",
   "nbconvert_exporter": "python",
   "pygments_lexer": "ipython3",
   "version": "3.10.11"
  },
  "orig_nbformat": 4
 },
 "nbformat": 4,
 "nbformat_minor": 2
}
